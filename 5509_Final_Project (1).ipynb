{
 "cells": [
  {
   "cell_type": "code",
   "execution_count": 222,
   "id": "d6295143",
   "metadata": {},
   "outputs": [],
   "source": [
    "import pandas as pd\n",
    "import numpy as np\n",
    "import matplotlib.pyplot as plt\n",
    "import seaborn as sns"
   ]
  },
  {
   "cell_type": "markdown",
   "id": "39c76acd",
   "metadata": {},
   "source": [
    "# Introduction\n",
    "\n",
    "Educational institutions wish to learn from their students in order to provide a rewarding and enriching environment in which to learn. While student results on assessments are the prime indicator of student success, an institution may also which to determine how much of \"Success\" is indicated by student factors aside from academic achievement. Specifically, how can non-academic features of a student indicate success separate from academic achievement. This project aims to use multiple supervised machine learning methods in order to model and predict if a student meets the requirements for success, as defined by academic achievement, from non-academic measures, most notably demographic and socioeconomic features. This analysis can help identify populations which could need additional support and validate an institutions program of study.\n",
    "\n",
    "The dataset has eight features, 5 categorical and 3 quantitative, of 1000 students. The categorical variables are a non-exhaustive listing of demographic data which are commonly recorded along with various measures of student achievement. Without specifically asking for socioeconomic level, they do give an indiciation of the socioeconomic status of the student. For example, a student who qualifies for free/reduced lunch and has no test preparation course is more likely to be of a lower socioeconomic level maybe than a student who does not qualify for free/reduced lunch and does take a test preparation course. Modeling these variables can give an indication as to the association they have on academic achievement. \n",
    "\n",
    "The quantitative features - math score, writing score, reading score - are the measured outcomes of academic acheivement. While not an exhaustive listing of ways to measure academic achievement (growth or improvement over time could also be important), they do provide a measuring stick in order to assess how the categorical features can be used to predict student outcomes. \n",
    "\n",
    "The goal of this study is to assess the prediction accuracy of students results from demographic data using three supervised learning models: Logistic Regression, K-Nearest Neighbors (KNN) Classification, and AdaBoost ensemble modeling. Each model will be assessed on its accuracy (ability to make the correct classification) and F1 score (a balance of recall and precision which determine the true positivity and true negativity rate respectively).  These numbers give an idea as to how well the models do at classifying the students correctly."
   ]
  },
  {
   "cell_type": "markdown",
   "id": "fe5539d0",
   "metadata": {},
   "source": [
    "# Exploratory Data Analysis\n",
    "\n",
    "The data will need to be read in and analysed before model can begin. This steps allows for initial observations to help guide the data cleaning and feature engineering process allowing for data to be usable and workable in the modeling step."
   ]
  },
  {
   "cell_type": "code",
   "execution_count": 143,
   "id": "524c3253",
   "metadata": {},
   "outputs": [],
   "source": [
    "data = pd.read_csv('StudentsPerformance.csv')"
   ]
  },
  {
   "cell_type": "code",
   "execution_count": 144,
   "id": "0ea401e1",
   "metadata": {},
   "outputs": [
    {
     "data": {
      "text/html": [
       "<div>\n",
       "<style scoped>\n",
       "    .dataframe tbody tr th:only-of-type {\n",
       "        vertical-align: middle;\n",
       "    }\n",
       "\n",
       "    .dataframe tbody tr th {\n",
       "        vertical-align: top;\n",
       "    }\n",
       "\n",
       "    .dataframe thead th {\n",
       "        text-align: right;\n",
       "    }\n",
       "</style>\n",
       "<table border=\"1\" class=\"dataframe\">\n",
       "  <thead>\n",
       "    <tr style=\"text-align: right;\">\n",
       "      <th></th>\n",
       "      <th>gender</th>\n",
       "      <th>race/ethnicity</th>\n",
       "      <th>parental level of education</th>\n",
       "      <th>lunch</th>\n",
       "      <th>test preparation course</th>\n",
       "      <th>math score</th>\n",
       "      <th>reading score</th>\n",
       "      <th>writing score</th>\n",
       "    </tr>\n",
       "  </thead>\n",
       "  <tbody>\n",
       "    <tr>\n",
       "      <th>0</th>\n",
       "      <td>female</td>\n",
       "      <td>group B</td>\n",
       "      <td>bachelor's degree</td>\n",
       "      <td>standard</td>\n",
       "      <td>none</td>\n",
       "      <td>72</td>\n",
       "      <td>72</td>\n",
       "      <td>74</td>\n",
       "    </tr>\n",
       "    <tr>\n",
       "      <th>1</th>\n",
       "      <td>female</td>\n",
       "      <td>group C</td>\n",
       "      <td>some college</td>\n",
       "      <td>standard</td>\n",
       "      <td>completed</td>\n",
       "      <td>69</td>\n",
       "      <td>90</td>\n",
       "      <td>88</td>\n",
       "    </tr>\n",
       "    <tr>\n",
       "      <th>2</th>\n",
       "      <td>female</td>\n",
       "      <td>group B</td>\n",
       "      <td>master's degree</td>\n",
       "      <td>standard</td>\n",
       "      <td>none</td>\n",
       "      <td>90</td>\n",
       "      <td>95</td>\n",
       "      <td>93</td>\n",
       "    </tr>\n",
       "    <tr>\n",
       "      <th>3</th>\n",
       "      <td>male</td>\n",
       "      <td>group A</td>\n",
       "      <td>associate's degree</td>\n",
       "      <td>free/reduced</td>\n",
       "      <td>none</td>\n",
       "      <td>47</td>\n",
       "      <td>57</td>\n",
       "      <td>44</td>\n",
       "    </tr>\n",
       "    <tr>\n",
       "      <th>4</th>\n",
       "      <td>male</td>\n",
       "      <td>group C</td>\n",
       "      <td>some college</td>\n",
       "      <td>standard</td>\n",
       "      <td>none</td>\n",
       "      <td>76</td>\n",
       "      <td>78</td>\n",
       "      <td>75</td>\n",
       "    </tr>\n",
       "  </tbody>\n",
       "</table>\n",
       "</div>"
      ],
      "text/plain": [
       "   gender race/ethnicity parental level of education         lunch  \\\n",
       "0  female        group B           bachelor's degree      standard   \n",
       "1  female        group C                some college      standard   \n",
       "2  female        group B             master's degree      standard   \n",
       "3    male        group A          associate's degree  free/reduced   \n",
       "4    male        group C                some college      standard   \n",
       "\n",
       "  test preparation course  math score  reading score  writing score  \n",
       "0                    none          72             72             74  \n",
       "1               completed          69             90             88  \n",
       "2                    none          90             95             93  \n",
       "3                    none          47             57             44  \n",
       "4                    none          76             78             75  "
      ]
     },
     "execution_count": 144,
     "metadata": {},
     "output_type": "execute_result"
    }
   ],
   "source": [
    "data.head()"
   ]
  },
  {
   "cell_type": "code",
   "execution_count": 145,
   "id": "172a5479",
   "metadata": {},
   "outputs": [
    {
     "name": "stdout",
     "output_type": "stream",
     "text": [
      "<class 'pandas.core.frame.DataFrame'>\n",
      "RangeIndex: 1000 entries, 0 to 999\n",
      "Data columns (total 8 columns):\n",
      " #   Column                       Non-Null Count  Dtype \n",
      "---  ------                       --------------  ----- \n",
      " 0   gender                       1000 non-null   object\n",
      " 1   race/ethnicity               1000 non-null   object\n",
      " 2   parental level of education  1000 non-null   object\n",
      " 3   lunch                        1000 non-null   object\n",
      " 4   test preparation course      1000 non-null   object\n",
      " 5   math score                   1000 non-null   int64 \n",
      " 6   reading score                1000 non-null   int64 \n",
      " 7   writing score                1000 non-null   int64 \n",
      "dtypes: int64(3), object(5)\n",
      "memory usage: 62.6+ KB\n"
     ]
    }
   ],
   "source": [
    "data.info()\n"
   ]
  },
  {
   "cell_type": "markdown",
   "id": "e023abb1",
   "metadata": {},
   "source": [
    "Initial observations revealed some cleaning and feature engineering was required so the data was able to be modeled.  First, changing the names of columns to remove spaces. Second, two variables - Race/Ethnicity and Parent Education Level - needed to be cleaned so that the entries were workable. The entries were split and processed to allow for ease in modeling. Third, the categrorical responses needed to be engineering into a form which allowed for modeling. Dummy variables were created and the dataset was reconstituted with the variables in this new form. Finally, a success column was added. This will be the output of our model and what we hope to predict. \n",
    "\n",
    "It is important to note that this definition of success is arbritary. Any insitution has their own definition and this one worked best within the context of the dataset and scope of the project. It would be important for any institution to clearly define what student success is and looks like in order to have accurate, meaningful data to that effect. It is also important to recognize that success is relative and has an individualized component and should be treated on an individual basis in addition to being measured against institutional benchmarks.\n",
    "\n"
   ]
  },
  {
   "cell_type": "code",
   "execution_count": 146,
   "id": "69374a63",
   "metadata": {},
   "outputs": [
    {
     "data": {
      "text/html": [
       "<div>\n",
       "<style scoped>\n",
       "    .dataframe tbody tr th:only-of-type {\n",
       "        vertical-align: middle;\n",
       "    }\n",
       "\n",
       "    .dataframe tbody tr th {\n",
       "        vertical-align: top;\n",
       "    }\n",
       "\n",
       "    .dataframe thead th {\n",
       "        text-align: right;\n",
       "    }\n",
       "</style>\n",
       "<table border=\"1\" class=\"dataframe\">\n",
       "  <thead>\n",
       "    <tr style=\"text-align: right;\">\n",
       "      <th></th>\n",
       "      <th>gender</th>\n",
       "      <th>race_ethnicity</th>\n",
       "      <th>parent_ed_level</th>\n",
       "      <th>lunch</th>\n",
       "      <th>test_prep_course</th>\n",
       "      <th>math_score</th>\n",
       "      <th>reading_score</th>\n",
       "      <th>writing_score</th>\n",
       "      <th>success</th>\n",
       "    </tr>\n",
       "  </thead>\n",
       "  <tbody>\n",
       "    <tr>\n",
       "      <th>0</th>\n",
       "      <td>female</td>\n",
       "      <td>group B</td>\n",
       "      <td>bachelor's degree</td>\n",
       "      <td>standard</td>\n",
       "      <td>none</td>\n",
       "      <td>72</td>\n",
       "      <td>72</td>\n",
       "      <td>74</td>\n",
       "      <td>1</td>\n",
       "    </tr>\n",
       "    <tr>\n",
       "      <th>1</th>\n",
       "      <td>female</td>\n",
       "      <td>group C</td>\n",
       "      <td>some college</td>\n",
       "      <td>standard</td>\n",
       "      <td>completed</td>\n",
       "      <td>69</td>\n",
       "      <td>90</td>\n",
       "      <td>88</td>\n",
       "      <td>1</td>\n",
       "    </tr>\n",
       "    <tr>\n",
       "      <th>2</th>\n",
       "      <td>female</td>\n",
       "      <td>group B</td>\n",
       "      <td>master's degree</td>\n",
       "      <td>standard</td>\n",
       "      <td>none</td>\n",
       "      <td>90</td>\n",
       "      <td>95</td>\n",
       "      <td>93</td>\n",
       "      <td>1</td>\n",
       "    </tr>\n",
       "    <tr>\n",
       "      <th>3</th>\n",
       "      <td>male</td>\n",
       "      <td>group A</td>\n",
       "      <td>associate's degree</td>\n",
       "      <td>free/reduced</td>\n",
       "      <td>none</td>\n",
       "      <td>47</td>\n",
       "      <td>57</td>\n",
       "      <td>44</td>\n",
       "      <td>0</td>\n",
       "    </tr>\n",
       "    <tr>\n",
       "      <th>4</th>\n",
       "      <td>male</td>\n",
       "      <td>group C</td>\n",
       "      <td>some college</td>\n",
       "      <td>standard</td>\n",
       "      <td>none</td>\n",
       "      <td>76</td>\n",
       "      <td>78</td>\n",
       "      <td>75</td>\n",
       "      <td>1</td>\n",
       "    </tr>\n",
       "  </tbody>\n",
       "</table>\n",
       "</div>"
      ],
      "text/plain": [
       "   gender race_ethnicity     parent_ed_level         lunch test_prep_course  \\\n",
       "0  female        group B   bachelor's degree      standard             none   \n",
       "1  female        group C        some college      standard        completed   \n",
       "2  female        group B     master's degree      standard             none   \n",
       "3    male        group A  associate's degree  free/reduced             none   \n",
       "4    male        group C        some college      standard             none   \n",
       "\n",
       "   math_score  reading_score  writing_score  success  \n",
       "0          72             72             74        1  \n",
       "1          69             90             88        1  \n",
       "2          90             95             93        1  \n",
       "3          47             57             44        0  \n",
       "4          76             78             75        1  "
      ]
     },
     "execution_count": 146,
     "metadata": {},
     "output_type": "execute_result"
    }
   ],
   "source": [
    "data = data.rename(columns = {'math score':'math_score',\n",
    "                              'reading score':'reading_score',\n",
    "                              'writing score':'writing_score',\n",
    "                             'parental level of education':'parent_ed_level',\n",
    "                             'test preparation course':'test_prep_course',\n",
    "                             'race/ethnicity':'race_ethnicity'})\n",
    "\n",
    "cutoff = data['math_score'].quantile(q=0.5) + data['reading_score'].quantile(q=0.5) + data['writing_score'].quantile(q=0.5)\n",
    "\n",
    "data['success'] = np.where(data['math_score'] + data['reading_score'] + data['writing_score'] > cutoff, 1, 0)\n",
    "\n",
    "data2 = data.copy()\n",
    "data.head()"
   ]
  },
  {
   "cell_type": "code",
   "execution_count": 147,
   "id": "3cae130b",
   "metadata": {},
   "outputs": [],
   "source": [
    "data['race_ethnicity'] = [x.split(' ')[1] for x in data['race_ethnicity']]\n",
    "data['parent_ed_level'] = [x.split(' ')[0] for x in data['parent_ed_level']]\n",
    "data['parent_ed_level'] = [x.split(\"'\")[0] for x in data['parent_ed_level']]\n",
    "\n",
    "gender = pd.get_dummies(data['gender'],drop_first = True)\n",
    "race = pd.get_dummies(data['race_ethnicity'],drop_first = True)\n",
    "parent_ed = pd.get_dummies(data['parent_ed_level'],drop_first = True)\n",
    "lunch = pd.get_dummies(data['lunch'],drop_first = True)\n",
    "test_prep = pd.get_dummies(data['test_prep_course'],drop_first = True)\n",
    "\n",
    "data.drop(columns = ['gender','race_ethnicity','parent_ed_level','lunch','test_prep_course'], inplace=True)\n",
    "df = pd.concat([data,gender,race,parent_ed,lunch,test_prep], axis=1)\n"
   ]
  },
  {
   "cell_type": "markdown",
   "id": "ef4373dd",
   "metadata": {},
   "source": [
    "Below, the cleaned and engineered dataset is ready for modeling."
   ]
  },
  {
   "cell_type": "code",
   "execution_count": 148,
   "id": "b04d7e91",
   "metadata": {},
   "outputs": [
    {
     "data": {
      "text/html": [
       "<div>\n",
       "<style scoped>\n",
       "    .dataframe tbody tr th:only-of-type {\n",
       "        vertical-align: middle;\n",
       "    }\n",
       "\n",
       "    .dataframe tbody tr th {\n",
       "        vertical-align: top;\n",
       "    }\n",
       "\n",
       "    .dataframe thead th {\n",
       "        text-align: right;\n",
       "    }\n",
       "</style>\n",
       "<table border=\"1\" class=\"dataframe\">\n",
       "  <thead>\n",
       "    <tr style=\"text-align: right;\">\n",
       "      <th></th>\n",
       "      <th>math_score</th>\n",
       "      <th>reading_score</th>\n",
       "      <th>writing_score</th>\n",
       "      <th>success</th>\n",
       "      <th>male</th>\n",
       "      <th>B</th>\n",
       "      <th>C</th>\n",
       "      <th>D</th>\n",
       "      <th>E</th>\n",
       "      <th>bachelor</th>\n",
       "      <th>high</th>\n",
       "      <th>master</th>\n",
       "      <th>some</th>\n",
       "      <th>standard</th>\n",
       "      <th>none</th>\n",
       "    </tr>\n",
       "  </thead>\n",
       "  <tbody>\n",
       "    <tr>\n",
       "      <th>0</th>\n",
       "      <td>72</td>\n",
       "      <td>72</td>\n",
       "      <td>74</td>\n",
       "      <td>1</td>\n",
       "      <td>0</td>\n",
       "      <td>1</td>\n",
       "      <td>0</td>\n",
       "      <td>0</td>\n",
       "      <td>0</td>\n",
       "      <td>1</td>\n",
       "      <td>0</td>\n",
       "      <td>0</td>\n",
       "      <td>0</td>\n",
       "      <td>1</td>\n",
       "      <td>1</td>\n",
       "    </tr>\n",
       "    <tr>\n",
       "      <th>1</th>\n",
       "      <td>69</td>\n",
       "      <td>90</td>\n",
       "      <td>88</td>\n",
       "      <td>1</td>\n",
       "      <td>0</td>\n",
       "      <td>0</td>\n",
       "      <td>1</td>\n",
       "      <td>0</td>\n",
       "      <td>0</td>\n",
       "      <td>0</td>\n",
       "      <td>0</td>\n",
       "      <td>0</td>\n",
       "      <td>1</td>\n",
       "      <td>1</td>\n",
       "      <td>0</td>\n",
       "    </tr>\n",
       "    <tr>\n",
       "      <th>2</th>\n",
       "      <td>90</td>\n",
       "      <td>95</td>\n",
       "      <td>93</td>\n",
       "      <td>1</td>\n",
       "      <td>0</td>\n",
       "      <td>1</td>\n",
       "      <td>0</td>\n",
       "      <td>0</td>\n",
       "      <td>0</td>\n",
       "      <td>0</td>\n",
       "      <td>0</td>\n",
       "      <td>1</td>\n",
       "      <td>0</td>\n",
       "      <td>1</td>\n",
       "      <td>1</td>\n",
       "    </tr>\n",
       "    <tr>\n",
       "      <th>3</th>\n",
       "      <td>47</td>\n",
       "      <td>57</td>\n",
       "      <td>44</td>\n",
       "      <td>0</td>\n",
       "      <td>1</td>\n",
       "      <td>0</td>\n",
       "      <td>0</td>\n",
       "      <td>0</td>\n",
       "      <td>0</td>\n",
       "      <td>0</td>\n",
       "      <td>0</td>\n",
       "      <td>0</td>\n",
       "      <td>0</td>\n",
       "      <td>0</td>\n",
       "      <td>1</td>\n",
       "    </tr>\n",
       "    <tr>\n",
       "      <th>4</th>\n",
       "      <td>76</td>\n",
       "      <td>78</td>\n",
       "      <td>75</td>\n",
       "      <td>1</td>\n",
       "      <td>1</td>\n",
       "      <td>0</td>\n",
       "      <td>1</td>\n",
       "      <td>0</td>\n",
       "      <td>0</td>\n",
       "      <td>0</td>\n",
       "      <td>0</td>\n",
       "      <td>0</td>\n",
       "      <td>1</td>\n",
       "      <td>1</td>\n",
       "      <td>1</td>\n",
       "    </tr>\n",
       "  </tbody>\n",
       "</table>\n",
       "</div>"
      ],
      "text/plain": [
       "   math_score  reading_score  writing_score  success  male  B  C  D  E  \\\n",
       "0          72             72             74        1     0  1  0  0  0   \n",
       "1          69             90             88        1     0  0  1  0  0   \n",
       "2          90             95             93        1     0  1  0  0  0   \n",
       "3          47             57             44        0     1  0  0  0  0   \n",
       "4          76             78             75        1     1  0  1  0  0   \n",
       "\n",
       "   bachelor  high  master  some  standard  none  \n",
       "0         1     0       0     0         1     1  \n",
       "1         0     0       0     1         1     0  \n",
       "2         0     0       1     0         1     1  \n",
       "3         0     0       0     0         0     1  \n",
       "4         0     0       0     1         1     1  "
      ]
     },
     "execution_count": 148,
     "metadata": {},
     "output_type": "execute_result"
    }
   ],
   "source": [
    "df.head()"
   ]
  },
  {
   "cell_type": "code",
   "execution_count": 149,
   "id": "974025d4",
   "metadata": {},
   "outputs": [
    {
     "data": {
      "text/plain": [
       "math_score       0.725905\n",
       "reading_score    0.781049\n",
       "writing_score    0.769572\n",
       "success          1.000000\n",
       "male            -0.120223\n",
       "B               -0.084732\n",
       "C               -0.012281\n",
       "D                0.079705\n",
       "E                0.111129\n",
       "bachelor         0.075857\n",
       "high            -0.129019\n",
       "master           0.064663\n",
       "some            -0.027257\n",
       "standard         0.216464\n",
       "none            -0.219921\n",
       "Name: success, dtype: float64"
      ]
     },
     "execution_count": 149,
     "metadata": {},
     "output_type": "execute_result"
    }
   ],
   "source": [
    "df.corr()['success']"
   ]
  },
  {
   "cell_type": "markdown",
   "id": "7d93c9e6",
   "metadata": {},
   "source": [
    "# Modeling\n",
    "\n",
    "Two versions of this data will be utilized.  The first is the complete dataset, categorical and quantitative features, and the second is a dataset comprised of only the categorical features. The full version will be used as a comparison for the ability of the models to predict based on the categorical features.\n",
    "\n",
    "Each dataset is divided randomly into training and testing sets at the standard 80%-20% split.  This allows for the majority of the data to be used to train each model and a smaller, but still useful, proportion to be used to test each model by evaluating its accuracy (% of correct predictions) and F1 (a balance of recall, % of all positives predicted positive, and precision, % of all predicted positive which are actually positive.) Accuracy allows for an overall number indicating how well the model predicts what it should.  F1 allows for an understanding of how false positives and false negatives appear within the model's predictions. Becuase both false positives (saying a student is successful when they are not) and false negatives (saying a student is not successful when they are) are both undesirable for this analysis, F1 allows for an interpretation which takes both undesirable outcomes into account.\n",
    "\n",
    "Finally, a confusion matrix is used to visually compare predicted successes to actual successes. It produces four numbers corresponding to the overlap of prediction and actual succes. The upper left number and the bottom right represent correct predictions of actually unsuccessful (top left) and actually successful (bottom right) students.  The other two numbers are false negatives (bottom left) and false positives (upper right).  While inaccuracy is expected, these two should be minimized in order to choose a model which has the best predictive ability.\n"
   ]
  },
  {
   "cell_type": "code",
   "execution_count": 150,
   "id": "323fdc81",
   "metadata": {},
   "outputs": [],
   "source": [
    "from sklearn.model_selection import train_test_split\n",
    "\n",
    "X = df.drop(columns = ['success'])\n",
    "y = df['success']\n",
    "\n",
    "X_cat = df.drop(columns = ['math_score','reading_score','writing_score','success'])\n",
    "y_cat = df['success']\n",
    "\n",
    "X_train, X_test, y_train, y_test = train_test_split(X, y, test_size = 0.2)\n",
    "X_train_c, X_test_c, y_train_c, y_test_c = train_test_split(X_cat, y_cat, test_size = 0.2)\n"
   ]
  },
  {
   "cell_type": "markdown",
   "id": "c9dbde6a",
   "metadata": {},
   "source": [
    "## Logistic Model"
   ]
  },
  {
   "cell_type": "code",
   "execution_count": 233,
   "id": "cb1237fe",
   "metadata": {},
   "outputs": [
    {
     "name": "stdout",
     "output_type": "stream",
     "text": [
      "accuracy: 0.94\n",
      "f1: 0.95\n"
     ]
    },
    {
     "name": "stderr",
     "output_type": "stream",
     "text": [
      "/Users/bmckiernan/opt/anaconda3/lib/python3.9/site-packages/sklearn/linear_model/_logistic.py:763: ConvergenceWarning: lbfgs failed to converge (status=1):\n",
      "STOP: TOTAL NO. of ITERATIONS REACHED LIMIT.\n",
      "\n",
      "Increase the number of iterations (max_iter) or scale the data as shown in:\n",
      "    https://scikit-learn.org/stable/modules/preprocessing.html\n",
      "Please also refer to the documentation for alternative solver options:\n",
      "    https://scikit-learn.org/stable/modules/linear_model.html#logistic-regression\n",
      "  n_iter_i = _check_optimize_result(\n"
     ]
    }
   ],
   "source": [
    "from sklearn.linear_model import LogisticRegression\n",
    "from sklearn.metrics import accuracy_score, f1_score, confusion_matrix, roc_curve, roc_auc_score, classification_report\n",
    "\n",
    "LR_model = LogisticRegression().fit(X_train, y_train)\n",
    "LR_preds = LR_model.predict(X_test)\n",
    "\n",
    "acc = round(accuracy_score(y_test, LR_preds), 2)\n",
    "f1 = round(f1_score(y_test, LR_preds, pos_label = 1), 2)\n",
    "print('accuracy:', acc)\n",
    "print('f1:', f1)\n",
    "\n",
    "pred_probs = LR_model.predict_proba(X_test)\n",
    "fpr1, tpr1, th = roc_curve(y_test, pred_probs[:,1])"
   ]
  },
  {
   "cell_type": "code",
   "execution_count": 245,
   "id": "c9c832a7",
   "metadata": {},
   "outputs": [],
   "source": [
    "#define the logistic model for the categrical dataset and make predictions from the test data. \n",
    "LR_model2 = LogisticRegression().fit(X_train_c, y_train_c)\n",
    "LR_preds2 = LR_model2.predict(X_test_c)\n",
    "\n",
    "#Further calculations for model fit analysis.\n",
    "pred_probs2 = LR_model2.predict_proba(X_test_c)\n",
    "fpr2, tpr2, th2 = roc_curve(y_test_c, pred_probs2[:,1])\n",
    "auc = roc_auc_score(y_test_c, pred_probs2[:,1])"
   ]
  },
  {
   "cell_type": "code",
   "execution_count": 248,
   "id": "859a2ec9",
   "metadata": {},
   "outputs": [
    {
     "data": {
      "text/plain": [
       "array([[0.5618467 , 1.60884171, 1.6017286 , 2.75530314, 2.95499651,\n",
       "        1.12403354, 0.58056511, 1.78720016, 0.79534217, 2.73190901,\n",
       "        0.34823529]])"
      ]
     },
     "execution_count": 248,
     "metadata": {},
     "output_type": "execute_result"
    }
   ],
   "source": [
    "#calculating the odds ratio - the multiplicative change in classificiation odds for each predictor\n",
    "np.exp(LR_model2.coef_)"
   ]
  },
  {
   "cell_type": "code",
   "execution_count": 267,
   "id": "3f93c6e3",
   "metadata": {},
   "outputs": [
    {
     "data": {
      "text/plain": [
       "<AxesSubplot:>"
      ]
     },
     "execution_count": 267,
     "metadata": {},
     "output_type": "execute_result"
    },
    {
     "data": {
      "image/png": "[encoded data removed]",
      "text/plain": [
       "<Figure size 432x288 with 2 Axes>"
      ]
     },
     "metadata": {
      "needs_background": "light"
     },
     "output_type": "display_data"
    }
   ],
   "source": [
    "cf = confusion_matrix(y_test_c, LR_preds2, normalize='all')\n",
    "sns.heatmap(cf, annot=True, cmap='Blues')"
   ]
  },
  {
   "cell_type": "code",
   "execution_count": 241,
   "id": "d94b1490",
   "metadata": {},
   "outputs": [
    {
     "name": "stdout",
     "output_type": "stream",
     "text": [
      "              precision    recall  f1-score   support\n",
      "\n",
      "     success       0.65      0.62      0.63        99\n",
      " not success       0.64      0.67      0.66       101\n",
      "\n",
      "    accuracy                           0.65       200\n",
      "   macro avg       0.65      0.64      0.64       200\n",
      "weighted avg       0.65      0.65      0.64       200\n",
      "\n"
     ]
    }
   ],
   "source": [
    "target_names = ['success','not success']\n",
    "print(classification_report(y_test_c, LR_preds2, target_names=target_names))"
   ]
  },
  {
   "cell_type": "code",
   "execution_count": 246,
   "id": "2210bbb8",
   "metadata": {},
   "outputs": [
    {
     "data": {
      "image/png": "[encoded data removed]",
      "text/plain": [
       "<Figure size 432x288 with 1 Axes>"
      ]
     },
     "metadata": {
      "needs_background": "light"
     },
     "output_type": "display_data"
    }
   ],
   "source": [
    "plt.plot(fpr1, tpr1, 'blue', label = 'Full Model')\n",
    "plt.plot(np.arange(0,1.1,0.1), np.arange(0,1.1,0.1), 'r--')\n",
    "plt.plot(fpr2, tpr2, 'green', label = 'Categorical Model')\n",
    "plt.title('ROC Curve')\n",
    "plt.xlabel('False Positive Rate')\n",
    "plt.ylabel('True Positive Rate')\n",
    "plt.legend()\n",
    "plt.text(0.7, 0.2, 'AUC='+'{:.2f}'.format(auc))\n",
    "plt.show()"
   ]
  },
  {
   "cell_type": "markdown",
   "id": "7274e8a4",
   "metadata": {},
   "source": [
    "## K-Nearest Neighbors Model"
   ]
  },
  {
   "cell_type": "code",
   "execution_count": 252,
   "id": "85dabcea",
   "metadata": {},
   "outputs": [],
   "source": [
    "from sklearn.neighbors import KNeighborsClassifier\n",
    "\n",
    "i = []\n",
    "accs = []\n",
    "f1s = []\n",
    "\n",
    "for j in range(1,25):\n",
    "    i.append(j)\n",
    "\n",
    "    KNN_Model = KNeighborsClassifier(n_neighbors = j).fit(X_train, y_train)\n",
    "    preds_KNN = KNN_Model.predict(X_test)\n",
    "    \n",
    "    accs.append(accuracy_score(y_test, preds_KNN))\n",
    "    f1s.append(f1_score(y_test, preds_KNN, pos_label = 1))\n"
   ]
  },
  {
   "cell_type": "code",
   "execution_count": 253,
   "id": "a7e30528",
   "metadata": {},
   "outputs": [
    {
     "data": {
      "image/png": "[encoded data removed]",
      "text/plain": [
       "<Figure size 432x288 with 1 Axes>"
      ]
     },
     "metadata": {
      "needs_background": "light"
     },
     "output_type": "display_data"
    }
   ],
   "source": [
    "plt.plot(i,accs, label='Accuracy')\n",
    "plt.plot(i,f1s, label='f1')\n",
    "plt.xlabel('Number of Nearest Neighbors')\n",
    "plt.title('Model Evaluation')\n",
    "plt.legend()\n",
    "plt.show()"
   ]
  },
  {
   "cell_type": "code",
   "execution_count": 232,
   "id": "8f341cac",
   "metadata": {},
   "outputs": [
    {
     "name": "stdout",
     "output_type": "stream",
     "text": [
      "accuracy: 1.0\n",
      "f1: 1.0\n"
     ]
    }
   ],
   "source": [
    "KNN_Model = KNeighborsClassifier(n_neighbors = 21).fit(X_train, y_train)\n",
    "preds_KNN = KNN_Model.predict(X_test)\n",
    "acc = round(accuracy_score(y_test, preds_KNN), 2)\n",
    "f1 = round(f1_score(y_test, preds_KNN, pos_label = 1), 2)\n",
    "print('accuracy:', acc)\n",
    "print('f1:', f1)"
   ]
  },
  {
   "cell_type": "code",
   "execution_count": 212,
   "id": "2335ca5c",
   "metadata": {},
   "outputs": [],
   "source": [
    "i_vals = []\n",
    "acc_vals = []\n",
    "f1_vals = []\n",
    "\n",
    "for i in range(1,25):\n",
    "    i_vals.append(i)\n",
    "    \n",
    "    mod = KNeighborsClassifier(n_neighbors = i).fit(X_train_c, y_train_c)\n",
    "    preds_vals = mod.predict(X_test_c)\n",
    "\n",
    "    acc_vals.append(accuracy_score(y_test_c, preds_vals))\n",
    "    f1_vals.append(f1_score(y_test_c, preds_vals, pos_label = 1))\n"
   ]
  },
  {
   "cell_type": "code",
   "execution_count": 213,
   "id": "835d703a",
   "metadata": {},
   "outputs": [
    {
     "data": {
      "image/png": "[encoded data removed]",
      "text/plain": [
       "<Figure size 432x288 with 1 Axes>"
      ]
     },
     "metadata": {
      "needs_background": "light"
     },
     "output_type": "display_data"
    }
   ],
   "source": [
    "plt.plot(i_vals,acc_vals, label='Accuracy')\n",
    "plt.plot(i_vals,f1_vals, label='f1')\n",
    "plt.xlabel('Number of Nearest Neighbors')\n",
    "plt.title('Model Evaluation')\n",
    "plt.legend()\n",
    "plt.show()"
   ]
  },
  {
   "cell_type": "code",
   "execution_count": 214,
   "id": "8b2ac11a",
   "metadata": {},
   "outputs": [
    {
     "name": "stdout",
     "output_type": "stream",
     "text": [
      "accuracy: 0.63\n",
      "f1: 0.6\n"
     ]
    }
   ],
   "source": [
    "KNN_model = KNeighborsClassifier(n_neighbors = 14).fit(X_train_c, y_train_c)\n",
    "KNN_pred = KNN_model.predict(X_test_c)\n",
    "\n",
    "print('accuracy:',accuracy_score(y_test_c, KNN_pred))\n",
    "print('f1:', round(f1_score(y_test_c, KNN_pred, pos_label = 1),2))"
   ]
  },
  {
   "cell_type": "code",
   "execution_count": 268,
   "id": "e3576549",
   "metadata": {},
   "outputs": [
    {
     "data": {
      "text/plain": [
       "<AxesSubplot:>"
      ]
     },
     "execution_count": 268,
     "metadata": {},
     "output_type": "execute_result"
    },
    {
     "data": {
      "image/png": "[encoded data removed]",
      "text/plain": [
       "<Figure size 432x288 with 2 Axes>"
      ]
     },
     "metadata": {
      "needs_background": "light"
     },
     "output_type": "display_data"
    }
   ],
   "source": [
    "cf2 = confusion_matrix(y_test_c, KNN_pred, normalize='all')\n",
    "sns.heatmap(cf2, annot=True, cmap='Blues')"
   ]
  },
  {
   "cell_type": "markdown",
   "id": "738c1a60",
   "metadata": {},
   "source": [
    "## AdaBoost Ensemble Model"
   ]
  },
  {
   "cell_type": "code",
   "execution_count": 215,
   "id": "814dcac2",
   "metadata": {},
   "outputs": [
    {
     "name": "stdout",
     "output_type": "stream",
     "text": [
      "accuracy: 0.99\n",
      "f1: 0.99\n"
     ]
    }
   ],
   "source": [
    "from sklearn.ensemble import AdaBoostClassifier\n",
    "\n",
    "ADA_mod = AdaBoostClassifier().fit(X_train, y_train)\n",
    "Ada_pred = ADA_mod.predict(X_test)\n",
    "\n",
    "print('accuracy:', accuracy_score(y_test, Ada_pred))\n",
    "print('f1:',round(f1_score(y_test, Ada_pred), 2))"
   ]
  },
  {
   "cell_type": "code",
   "execution_count": 257,
   "id": "72b5dc47",
   "metadata": {},
   "outputs": [],
   "source": [
    "vals = []\n",
    "ada_acc = []\n",
    "ada_f1 = []\n",
    "\n",
    "for i in range(1,100):\n",
    "    vals.append(i)\n",
    "    \n",
    "    ADA_mod = AdaBoostClassifier(n_estimators = i).fit(X_train_c, y_train_c)\n",
    "    Ada_pred = ADA_mod.predict(X_test_c)\n",
    "\n",
    "    ada_acc.append(accuracy_score(y_test_c, Ada_pred))\n",
    "    ada_f1.append(f1_score(y_test_c, Ada_pred, pos_label = 1))\n"
   ]
  },
  {
   "cell_type": "code",
   "execution_count": 258,
   "id": "f97a7164",
   "metadata": {},
   "outputs": [
    {
     "data": {
      "image/png": "[encoded data removed]",
      "text/plain": [
       "<Figure size 432x288 with 1 Axes>"
      ]
     },
     "metadata": {
      "needs_background": "light"
     },
     "output_type": "display_data"
    }
   ],
   "source": [
    "plt.plot(vals,ada_acc, label='Accuracy')\n",
    "plt.plot(vals,ada_f1, label='f1')\n",
    "plt.xlabel('Number of Estimators')\n",
    "plt.title('Model Evaluation')\n",
    "plt.legend()\n",
    "plt.show()"
   ]
  },
  {
   "cell_type": "code",
   "execution_count": 256,
   "id": "8e2a7ebe",
   "metadata": {},
   "outputs": [
    {
     "name": "stdout",
     "output_type": "stream",
     "text": [
      "accuracy: 0.665\n",
      "f1: 0.69\n"
     ]
    }
   ],
   "source": [
    "ADA_model = AdaBoostClassifier(n_estimators = 7).fit(X_train_c, y_train_c)\n",
    "ADA_pred = ADA_model.predict(X_test_c)\n",
    "\n",
    "print('accuracy:', accuracy_score(y_test_c, ADA_pred))\n",
    "print('f1:', round(f1_score(y_test_c, ADA_pred, pos_label = 1),2))"
   ]
  },
  {
   "cell_type": "code",
   "execution_count": 269,
   "id": "83a51526",
   "metadata": {},
   "outputs": [
    {
     "data": {
      "text/plain": [
       "<AxesSubplot:>"
      ]
     },
     "execution_count": 269,
     "metadata": {},
     "output_type": "execute_result"
    },
    {
     "data": {
      "image/png": "[encoded data removed]",
      "text/plain": [
       "<Figure size 432x288 with 2 Axes>"
      ]
     },
     "metadata": {
      "needs_background": "light"
     },
     "output_type": "display_data"
    }
   ],
   "source": [
    "cf3 = confusion_matrix(y_test_c, ADA_pred, normalize='all')\n",
    "sns.heatmap(cf3, annot= True, cmap='Blues')"
   ]
  },
  {
   "cell_type": "markdown",
   "id": "230de6fe",
   "metadata": {},
   "source": [
    "# Conclusion and Discussion\n",
    "\n",
    "The full models all performed in all three modeling scenarios with similar accuracy and f1 as well as the categorical models. There was a noticeable, consistent drop in performance of the cateogorical model underperforming its corresponding full model by roughly 30%.  This consistency is remarkable. It gives an indication to the trouble and folly of trying to assess academic results based on demographic features. It also lends credence to the notion that success should encompass a more well rounded view of achievement rather than a purely academic grounds.\n",
    "\n",
    "The logistic model provides insight into how the odds of being classified as a \"Success\" changed based on changes in the categorical features.  Examining the model coefficients and the calculated odds ratios, being in racial groups D and E increase the probability of being successful by 176% and 195% respectively.  Being on standard lunch increases the probability of being successful by about 173%. Unsurprsisingly, identifing or being of a certain racial group has a large impact on academic success as well as if you qualify for free/reduced lunch, a strong measure of socioeconomic status. Considering the confusion matrix, the logistic model was balanced in its ability to recognize true successes and failure with simliar false positive and false negative rates. The AUC of 0.71 indicated that the model is better than random chance (AUC = 0.5) while being far from a perfect classificer (AUC = 1.0).\n",
    "\n",
    "The K-Nearest Neighbors model classifies instances within the test dataset by comparing it to others nearest to it or most similar. In this case, it considered similarity in regards to many variables and resulted in simliarly accurate predictions as the logistic model when considering the 14 most similar other instances of students. The K-Nearest Neighbors procedure did improve in identifing true negatives, classifying unsuccessful students as unsuccessful, but it also had a much higher false negative rate, more aggressively classifying succesful students as unsuccessful. Conversely, this approach had the lowest rate of false postives mostly due to its inability to correctly recognize successful students.\n",
    "\n",
    "The AdaBoost model (short for Adaptive Boost) is an ensemble model where successives modeling attempts learn from those misclassified during previous attempts to classify based on the provided predictors. The AdaBoost model did the best at identifying true positives, classifying successful students as successful, but it also has a much higher false positive rate, more aggressively classifying successful students as successful. On the flip side, this approach did have the lowest rate of false negatives, mostly due to its struggles in classifying unsuccessful students correctly.\n",
    "\n",
    "The general predictive performance was consistent both in how each modeling scenario dealt with the two datasets (categorical and full), the three modeling procedures did have some differences in their effectiveness in what they were able to accurately predict. The high false negative and positive rates in the K-Nearest Neighbors and AdaBoost procedures give pause in their use for this data in a school setting given the impact that a erroneous classification and the resulting implementation could have on student motivation and well-being. The constant accuracy of all three give an indication that each modeling process recognized different aspects on the data and trends which align with so-called successful and unsuccessful students. Their combined, communal use allows for a more well-rounded and nuanced analysis of the data and challenges in this application of prediction.\n",
    "\n",
    "All three models highlighted a large challenge facing schools: demographics are associated with student performance but just enough to be misleading in admissions and can lead to discrimination. A student's background and family situation have some bearing but cannot be used as strong determinants in anticipating future success. Understanding the role that demographics play is crucial in providing enough support to students who are in danger of being misclassified. A modeling procedure like this can be used to identify those students who would be classified incorrectly, allow for further examination of their record, and provide guidance in proactively offering services to assist those students in order to achieve at their highest potential.\n",
    " "
   ]
  },
  {
   "cell_type": "code",
   "execution_count": null,
   "id": "c84324eb",
   "metadata": {},
   "outputs": [],
   "source": []
  }
 ],
 "metadata": {
  "kernelspec": {
   "display_name": "Python 3 (ipykernel)",
   "language": "python",
   "name": "python3"
  },
  "language_info": {
   "codemirror_mode": {
    "name": "ipython",
    "version": 3
   },
   "file_extension": ".py",
   "mimetype": "text/x-python",
   "name": "python",
   "nbconvert_exporter": "python",
   "pygments_lexer": "ipython3",
   "version": "3.9.7"
  }
 },
 "nbformat": 4,
 "nbformat_minor": 5
}
